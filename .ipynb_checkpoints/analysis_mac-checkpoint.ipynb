{
 "cells": [
  {
   "cell_type": "markdown",
   "metadata": {},
   "source": [
    "# NYC Subway Data  - Vishnu Saatvik Ramisetty"
   ]
  },
  {
   "cell_type": "code",
   "execution_count": 1,
   "metadata": {
    "collapsed": true
   },
   "outputs": [],
   "source": [
    "from selenium import webdriver  #Selenium webdriver to control the webpage\n",
    "from bs4 import BeautifulSoup   #BeautifulSoup for scraping data\n",
    "import os\n",
    "import pandas as pd\n",
    "import time\n",
    "import datetime\n",
    "import re\n",
    "import sqlite3 as lite\n",
    "import matplotlib.pyplot as plt\n",
    "%matplotlib inline\n",
    "import seaborn "
   ]
  },
  {
   "cell_type": "markdown",
   "metadata": {},
   "source": [
    "## Data Collection and Transformation"
   ]
  },
  {
   "cell_type": "markdown",
   "metadata": {},
   "source": [
    "Using the chromedriver, we set the webpage to be controlled by selenium. Print the first link and the last link being scraped."
   ]
  },
  {
   "cell_type": "code",
   "execution_count": 3,
   "metadata": {},
   "outputs": [
    {
     "name": "stdout",
     "output_type": "stream",
     "text": [
      "http://web.mta.info/developers/data/nyct/turnstile/turnstile_180210.txt\n",
      "100505\n"
     ]
    }
   ],
   "source": [
    "url = 'http://web.mta.info/developers/turnstile.html'\n",
    "chromedriver = \"/users/sramisetty/Downloads/chromedriver_win32/chromedriver.exe\"\n",
    "os.environ[\"webdriver.chrome.driver\"] = chromedriver\n",
    "driver = webdriver.Chrome(chromedriver)\n",
    "driver.get(url)\n",
    "html_source = driver.page_source\n",
    "soup = BeautifulSoup(html_source, 'html.parser')\n",
    "# extract file link\n",
    "pattern = re.compile('^data.')\n",
    "data_list =  []\n",
    "for link in soup.find_all('a', href=True):\n",
    "    if re.match(pattern,link['href']):\n",
    "        data_list.append('http://web.mta.info/developers/'+link['href'])\n",
    "#check: data should range from 05/05/2010 to 02/18/2018\n",
    "print(data_list[0])\n",
    "print(data_list[-1][-10:-4])"
   ]
  },
  {
   "cell_type": "markdown",
   "metadata": {},
   "source": [
    "Upon observation, the data scheme is different prior to 10/18/2014. So we need to store the data in a different table for those links.\n"
   ]
  },
  {
   "cell_type": "code",
   "execution_count": 4,
   "metadata": {},
   "outputs": [
    {
     "name": "stdout",
     "output_type": "stream",
     "text": [
      "174\n"
     ]
    }
   ],
   "source": [
    "for i, v in enumerate(data_list):\n",
    "    if v[-10:] == '141011.txt':\n",
    "        print(i)"
   ]
  },
  {
   "cell_type": "code",
   "execution_count": 5,
   "metadata": {
    "collapsed": true
   },
   "outputs": [],
   "source": [
    "#data_list_prior = data_list[175:]\n",
    "#data_list_post = data_list[:174]\n",
    "\n",
    "data_list_prior = data_list[174:]\n",
    "data_list_post = data_list[:174]"
   ]
  },
  {
   "cell_type": "markdown",
   "metadata": {},
   "source": [
    "#### Create Two Different Tables to Store the Data. post.db and pre.db"
   ]
  },
  {
   "cell_type": "code",
   "execution_count": 6,
   "metadata": {
    "collapsed": true
   },
   "outputs": [],
   "source": [
    "conPost = lite.connect('post.db')  \n",
    "conPre = lite.connect('pre.db')"
   ]
  },
  {
   "cell_type": "markdown",
   "metadata": {},
   "source": [
    "**A.** Collect data ** AFTER** 10/18/14 "
   ]
  },
  {
   "cell_type": "code",
   "execution_count": 6,
   "metadata": {},
   "outputs": [
    {
     "name": "stdout",
     "output_type": "stream",
     "text": [
      "180210:197475 rows 11 columns\n"
     ]
    },
    {
     "name": "stderr",
     "output_type": "stream",
     "text": [
      "/anaconda/lib/python3.6/site-packages/pandas/io/sql.py:527: FutureWarning: the 'flavor' parameter is deprecated and will be removed in a future version, as 'sqlite' is the only supported option when SQLAlchemy is not installed.\n",
      "  _validate_flavor_parameter(flavor)\n",
      "/anaconda/lib/python3.6/site-packages/pandas/core/generic.py:1345: UserWarning: The spaces in these column names will not be changed. In pandas versions < 0.14, spaces were converted to underscores.\n",
      "  chunksize=chunksize, dtype=dtype)\n"
     ]
    },
    {
     "name": "stdout",
     "output_type": "stream",
     "text": [
      "180203:199388 rows 11 columns\n",
      "180127:201342 rows 11 columns\n",
      "180120:199065 rows 11 columns\n",
      "180113:201118 rows 11 columns\n",
      "180106:200665 rows 11 columns\n",
      "171230:197215 rows 11 columns\n",
      "171223:199474 rows 11 columns\n",
      "171216:198466 rows 11 columns\n",
      "171209:198216 rows 11 columns\n",
      "171202:197143 rows 11 columns\n",
      "171125:197198 rows 11 columns\n",
      "171118:198710 rows 11 columns\n",
      "171111:199690 rows 11 columns\n",
      "171104:198629 rows 11 columns\n",
      "171028:197894 rows 11 columns\n",
      "171021:197912 rows 11 columns\n",
      "171014:197927 rows 11 columns\n",
      "171007:196663 rows 11 columns\n",
      "170930:197192 rows 11 columns\n",
      "170923:198059 rows 11 columns\n",
      "170916:198419 rows 11 columns\n",
      "170909:197721 rows 11 columns\n",
      "170902:199761 rows 11 columns\n",
      "170826:195998 rows 11 columns\n",
      "170819:200552 rows 11 columns\n",
      "170812:195692 rows 11 columns\n",
      "170805:201957 rows 11 columns\n",
      "170729:200112 rows 11 columns\n",
      "170722:197434 rows 11 columns\n",
      "170715:196684 rows 11 columns\n",
      "170708:195566 rows 11 columns\n",
      "170701:197421 rows 11 columns\n",
      "170624:197416 rows 11 columns\n",
      "170617:197209 rows 11 columns\n",
      "170610:197631 rows 11 columns\n",
      "170603:195958 rows 11 columns\n",
      "170527:195463 rows 11 columns\n",
      "170520:195475 rows 11 columns\n",
      "170513:196861 rows 11 columns\n",
      "170506:197290 rows 11 columns\n",
      "170429:198260 rows 11 columns\n",
      "170422:197361 rows 11 columns\n",
      "170415:201197 rows 11 columns\n",
      "170408:197645 rows 11 columns\n",
      "170401:198368 rows 11 columns\n",
      "170325:196717 rows 11 columns\n",
      "170318:193729 rows 11 columns\n",
      "170311:196653 rows 11 columns\n",
      "170304:197204 rows 11 columns\n",
      "170225:197982 rows 11 columns\n",
      "170218:195255 rows 11 columns\n",
      "170211:195835 rows 11 columns\n",
      "170204:194642 rows 11 columns\n",
      "170128:193546 rows 11 columns\n",
      "170121:194566 rows 11 columns\n",
      "170114:194217 rows 11 columns\n",
      "170107:194774 rows 11 columns\n",
      "161231:192348 rows 11 columns\n",
      "161224:192067 rows 11 columns\n",
      "161217:196631 rows 11 columns\n",
      "161210:192025 rows 11 columns\n",
      "161203:192045 rows 11 columns\n",
      "161126:192257 rows 11 columns\n",
      "161119:192495 rows 11 columns\n",
      "161112:194409 rows 11 columns\n",
      "161105:191622 rows 11 columns\n",
      "161029:192515 rows 11 columns\n",
      "161022:191831 rows 11 columns\n",
      "161015:192301 rows 11 columns\n",
      "161008:192901 rows 11 columns\n",
      "161001:193732 rows 11 columns\n",
      "160924:192678 rows 11 columns\n",
      "160917:192878 rows 11 columns\n",
      "160910:194878 rows 11 columns\n",
      "160903:193139 rows 11 columns\n",
      "160827:191612 rows 11 columns\n",
      "160820:190540 rows 11 columns\n",
      "160813:193222 rows 11 columns\n",
      "160806:193387 rows 11 columns\n",
      "160730:191494 rows 11 columns\n",
      "160723:193335 rows 11 columns\n",
      "160716:193871 rows 11 columns\n",
      "160709:193064 rows 11 columns\n",
      "160702:194030 rows 11 columns\n",
      "160625:194492 rows 11 columns\n",
      "160618:194055 rows 11 columns\n",
      "160611:194379 rows 11 columns\n",
      "160604:193090 rows 11 columns\n",
      "160528:195729 rows 11 columns\n",
      "160521:193397 rows 11 columns\n",
      "160514:194346 rows 11 columns\n",
      "160507:194466 rows 11 columns\n",
      "160430:193366 rows 11 columns\n",
      "160423:194292 rows 11 columns\n",
      "160416:193284 rows 11 columns\n",
      "160409:194516 rows 11 columns\n",
      "160402:194154 rows 11 columns\n",
      "160326:192946 rows 11 columns\n",
      "160319:191890 rows 11 columns\n",
      "160312:196533 rows 11 columns\n",
      "160305:194776 rows 11 columns\n",
      "160227:198884 rows 11 columns\n",
      "160220:200834 rows 11 columns\n",
      "160213:193982 rows 11 columns\n",
      "160206:195366 rows 11 columns\n",
      "160130:193748 rows 11 columns\n",
      "160123:197666 rows 11 columns\n",
      "160116:193164 rows 11 columns\n",
      "160109:195361 rows 11 columns\n",
      "160102:191787 rows 11 columns\n",
      "151226:193546 rows 11 columns\n",
      "151219:192715 rows 11 columns\n",
      "151212:193800 rows 11 columns\n",
      "151205:194153 rows 11 columns\n",
      "151128:191797 rows 11 columns\n",
      "151121:193843 rows 11 columns\n",
      "151114:193606 rows 11 columns\n",
      "151107:196658 rows 11 columns\n",
      "151031:195090 rows 11 columns\n",
      "151024:193635 rows 11 columns\n",
      "151017:191582 rows 11 columns\n",
      "151010:193699 rows 11 columns\n",
      "151003:193788 rows 11 columns\n",
      "150926:194625 rows 11 columns\n",
      "150919:196905 rows 11 columns\n",
      "150912:193580 rows 11 columns\n",
      "150905:191452 rows 11 columns\n",
      "150829:191065 rows 11 columns\n",
      "150822:192672 rows 11 columns\n",
      "150815:193269 rows 11 columns\n",
      "150808:191229 rows 11 columns\n",
      "150801:192705 rows 11 columns\n",
      "150725:192891 rows 11 columns\n",
      "150718:191416 rows 11 columns\n",
      "150711:191033 rows 11 columns\n",
      "150704:191795 rows 11 columns\n",
      "150627:192567 rows 11 columns\n",
      "150620:193257 rows 11 columns\n",
      "150613:191024 rows 11 columns\n",
      "150606:191732 rows 11 columns\n",
      "150530:191591 rows 11 columns\n",
      "150523:191488 rows 11 columns\n",
      "150516:193445 rows 11 columns\n",
      "150509:191938 rows 11 columns\n",
      "150502:192388 rows 11 columns\n",
      "150425:191002 rows 11 columns\n",
      "150418:191662 rows 11 columns\n",
      "150411:192372 rows 11 columns\n",
      "150404:191385 rows 11 columns\n",
      "150328:192190 rows 11 columns\n",
      "150321:191447 rows 11 columns\n",
      "150314:189738 rows 11 columns\n",
      "150307:191587 rows 11 columns\n",
      "150228:192476 rows 11 columns\n",
      "150221:192985 rows 11 columns\n",
      "150214:190926 rows 11 columns\n",
      "150207:192842 rows 11 columns\n",
      "150131:192562 rows 11 columns\n",
      "150124:192875 rows 11 columns\n",
      "150117:201235 rows 11 columns\n",
      "150110:195502 rows 11 columns\n",
      "150103:194113 rows 11 columns\n",
      "141227:193528 rows 11 columns\n",
      "141220:192427 rows 11 columns\n",
      "141213:192401 rows 11 columns\n",
      "141206:81423 rows 11 columns\n",
      "141129:59329 rows 11 columns\n",
      "141122:191663 rows 11 columns\n",
      "141115:191959 rows 11 columns\n",
      "141108:194760 rows 11 columns\n",
      "141101:193006 rows 11 columns\n",
      "141025:193065 rows 11 columns\n",
      "141018:184959 rows 11 columns\n"
     ]
    }
   ],
   "source": [
    "record_cnt = 0  \n",
    "for link in data_list_post:\n",
    "    data = pd.read_table(link, sep=',')\n",
    "    print('%s:%s rows %s columns' % (link[-10:-4],data.shape[0], data.shape[1])) #printing out values makes me feel safe....\n",
    "    record_cnt += data.shape[0]\n",
    "    data.to_sql(name='post', con=conPost, flavor='sqlite', if_exists='append')"
   ]
  },
  {
   "cell_type": "code",
   "execution_count": 7,
   "metadata": {},
   "outputs": [
    {
     "data": {
      "text/html": [
       "<div>\n",
       "<style>\n",
       "    .dataframe thead tr:only-child th {\n",
       "        text-align: right;\n",
       "    }\n",
       "\n",
       "    .dataframe thead th {\n",
       "        text-align: left;\n",
       "    }\n",
       "\n",
       "    .dataframe tbody tr th {\n",
       "        vertical-align: top;\n",
       "    }\n",
       "</style>\n",
       "<table border=\"1\" class=\"dataframe\">\n",
       "  <thead>\n",
       "    <tr style=\"text-align: right;\">\n",
       "      <th></th>\n",
       "      <th>C/A</th>\n",
       "      <th>UNIT</th>\n",
       "      <th>SCP</th>\n",
       "      <th>STATION</th>\n",
       "      <th>LINENAME</th>\n",
       "      <th>DIVISION</th>\n",
       "      <th>DATE</th>\n",
       "      <th>TIME</th>\n",
       "      <th>DESC</th>\n",
       "      <th>ENTRIES</th>\n",
       "      <th>EXITS</th>\n",
       "    </tr>\n",
       "  </thead>\n",
       "  <tbody>\n",
       "    <tr>\n",
       "      <th>0</th>\n",
       "      <td>A060</td>\n",
       "      <td>R001</td>\n",
       "      <td>00-00-00</td>\n",
       "      <td>WHITEHALL ST</td>\n",
       "      <td>R1</td>\n",
       "      <td>BMT</td>\n",
       "      <td>10/11/2014</td>\n",
       "      <td>01:00:00</td>\n",
       "      <td>REGULAR</td>\n",
       "      <td>805439</td>\n",
       "      <td>1141080</td>\n",
       "    </tr>\n",
       "    <tr>\n",
       "      <th>1</th>\n",
       "      <td>A060</td>\n",
       "      <td>R001</td>\n",
       "      <td>00-00-00</td>\n",
       "      <td>WHITEHALL ST</td>\n",
       "      <td>R1</td>\n",
       "      <td>BMT</td>\n",
       "      <td>10/11/2014</td>\n",
       "      <td>05:00:00</td>\n",
       "      <td>REGULAR</td>\n",
       "      <td>805459</td>\n",
       "      <td>1141141</td>\n",
       "    </tr>\n",
       "    <tr>\n",
       "      <th>2</th>\n",
       "      <td>A060</td>\n",
       "      <td>R001</td>\n",
       "      <td>00-00-00</td>\n",
       "      <td>WHITEHALL ST</td>\n",
       "      <td>R1</td>\n",
       "      <td>BMT</td>\n",
       "      <td>10/11/2014</td>\n",
       "      <td>09:00:00</td>\n",
       "      <td>REGULAR</td>\n",
       "      <td>805589</td>\n",
       "      <td>1141257</td>\n",
       "    </tr>\n",
       "    <tr>\n",
       "      <th>3</th>\n",
       "      <td>A060</td>\n",
       "      <td>R001</td>\n",
       "      <td>00-00-00</td>\n",
       "      <td>WHITEHALL ST</td>\n",
       "      <td>R1</td>\n",
       "      <td>BMT</td>\n",
       "      <td>10/11/2014</td>\n",
       "      <td>13:00:00</td>\n",
       "      <td>REGULAR</td>\n",
       "      <td>805834</td>\n",
       "      <td>1141512</td>\n",
       "    </tr>\n",
       "    <tr>\n",
       "      <th>4</th>\n",
       "      <td>A060</td>\n",
       "      <td>R001</td>\n",
       "      <td>00-00-00</td>\n",
       "      <td>WHITEHALL ST</td>\n",
       "      <td>R1</td>\n",
       "      <td>BMT</td>\n",
       "      <td>10/11/2014</td>\n",
       "      <td>17:00:00</td>\n",
       "      <td>REGULAR</td>\n",
       "      <td>806150</td>\n",
       "      <td>1141903</td>\n",
       "    </tr>\n",
       "  </tbody>\n",
       "</table>\n",
       "</div>"
      ],
      "text/plain": [
       "    C/A  UNIT       SCP       STATION LINENAME DIVISION        DATE      TIME  \\\n",
       "0  A060  R001  00-00-00  WHITEHALL ST       R1      BMT  10/11/2014  01:00:00   \n",
       "1  A060  R001  00-00-00  WHITEHALL ST       R1      BMT  10/11/2014  05:00:00   \n",
       "2  A060  R001  00-00-00  WHITEHALL ST       R1      BMT  10/11/2014  09:00:00   \n",
       "3  A060  R001  00-00-00  WHITEHALL ST       R1      BMT  10/11/2014  13:00:00   \n",
       "4  A060  R001  00-00-00  WHITEHALL ST       R1      BMT  10/11/2014  17:00:00   \n",
       "\n",
       "      DESC  ENTRIES  \\\n",
       "0  REGULAR   805439   \n",
       "1  REGULAR   805459   \n",
       "2  REGULAR   805589   \n",
       "3  REGULAR   805834   \n",
       "4  REGULAR   806150   \n",
       "\n",
       "   EXITS                                                                 \n",
       "0                                            1141080                     \n",
       "1                                            1141141                     \n",
       "2                                            1141257                     \n",
       "3                                            1141512                     \n",
       "4                                            1141903                     "
      ]
     },
     "execution_count": 7,
     "metadata": {},
     "output_type": "execute_result"
    }
   ],
   "source": [
    "data.head()"
   ]
  },
  {
   "cell_type": "markdown",
   "metadata": {},
   "source": [
    "Check we don't miss anything"
   ]
  },
  {
   "cell_type": "code",
   "execution_count": 8,
   "metadata": {
    "scrolled": true
   },
   "outputs": [
    {
     "name": "stdout",
     "output_type": "stream",
     "text": [
      "[(33623220,)]\n",
      "33623220\n"
     ]
    }
   ],
   "source": [
    "with conPost:\n",
    "    cur = conPost.cursor()\n",
    "    cur.execute(\"\"\"select count(*) from post\"\"\")\n",
    "    cnt = cur.fetchall()\n",
    "    print(cnt)\n",
    "    print(record_cnt)"
   ]
  },
  {
   "cell_type": "markdown",
   "metadata": {},
   "source": [
    "**B.** Collec data ** BEFORE** 10/18/14 "
   ]
  },
  {
   "cell_type": "code",
   "execution_count": null,
   "metadata": {
    "scrolled": true
   },
   "outputs": [
    {
     "name": "stdout",
     "output_type": "stream",
     "text": [
      "141011:29797 rows 8 columns\n"
     ]
    },
    {
     "name": "stderr",
     "output_type": "stream",
     "text": [
      "/anaconda/lib/python3.6/site-packages/pandas/io/sql.py:527: FutureWarning: the 'flavor' parameter is deprecated and will be removed in a future version, as 'sqlite' is the only supported option when SQLAlchemy is not installed.\n",
      "  _validate_flavor_parameter(flavor)\n"
     ]
    },
    {
     "name": "stdout",
     "output_type": "stream",
     "text": [
      "141011:29797 rows 8 columns\n",
      "141011:29797 rows 8 columns\n",
      "141011:29797 rows 8 columns\n",
      "141011:29797 rows 8 columns\n",
      "141011:29797 rows 8 columns\n",
      "141011:29797 rows 8 columns\n",
      "141011:29797 rows 8 columns\n",
      "141004:30125 rows 8 columns\n",
      "141004:30125 rows 8 columns\n",
      "141004:30125 rows 8 columns\n",
      "141004:30125 rows 8 columns\n",
      "141004:30125 rows 8 columns\n",
      "141004:30125 rows 8 columns\n",
      "141004:30125 rows 8 columns\n",
      "141004:30125 rows 8 columns\n",
      "140927:29972 rows 8 columns\n",
      "140927:29972 rows 8 columns\n",
      "140927:29972 rows 8 columns\n",
      "140927:29972 rows 8 columns\n",
      "140927:29972 rows 8 columns\n",
      "140927:29972 rows 8 columns\n",
      "140927:29972 rows 8 columns\n",
      "140927:29972 rows 8 columns\n",
      "140920:29628 rows 8 columns\n",
      "140920:29628 rows 8 columns\n",
      "140920:29628 rows 8 columns\n",
      "140920:29628 rows 8 columns\n",
      "140920:29628 rows 8 columns\n",
      "140920:29628 rows 8 columns\n",
      "140920:29628 rows 8 columns\n",
      "140920:29628 rows 8 columns\n",
      "140913:29676 rows 8 columns\n",
      "140913:29676 rows 8 columns\n",
      "140913:29676 rows 8 columns\n",
      "140913:29676 rows 8 columns\n",
      "140913:29676 rows 8 columns\n",
      "140913:29676 rows 8 columns\n",
      "140913:29676 rows 8 columns\n",
      "140913:29676 rows 8 columns\n",
      "140906:30081 rows 8 columns\n",
      "140906:30081 rows 8 columns\n",
      "140906:30081 rows 8 columns\n",
      "140906:30081 rows 8 columns\n",
      "140906:30081 rows 8 columns\n",
      "140906:30081 rows 8 columns\n",
      "140906:30081 rows 8 columns\n",
      "140906:30081 rows 8 columns\n",
      "140830:29421 rows 8 columns\n",
      "140830:29421 rows 8 columns\n",
      "140830:29421 rows 8 columns\n",
      "140830:29421 rows 8 columns\n",
      "140830:29421 rows 8 columns\n",
      "140830:29421 rows 8 columns\n",
      "140830:29421 rows 8 columns\n",
      "140830:29421 rows 8 columns\n",
      "140823:29791 rows 8 columns\n",
      "140823:29791 rows 8 columns\n",
      "140823:29791 rows 8 columns\n",
      "140823:29791 rows 8 columns\n",
      "140823:29791 rows 8 columns\n",
      "140823:29791 rows 8 columns\n",
      "140823:29791 rows 8 columns\n",
      "140823:29791 rows 8 columns\n",
      "140816:29448 rows 8 columns\n",
      "140816:29448 rows 8 columns\n",
      "140816:29448 rows 8 columns\n",
      "140816:29448 rows 8 columns\n",
      "140816:29448 rows 8 columns\n",
      "140816:29448 rows 8 columns\n",
      "140816:29448 rows 8 columns\n",
      "140816:29448 rows 8 columns\n",
      "140809:29639 rows 8 columns\n",
      "140809:29639 rows 8 columns\n",
      "140809:29639 rows 8 columns\n",
      "140809:29639 rows 8 columns\n",
      "140809:29639 rows 8 columns\n",
      "140809:29639 rows 8 columns\n",
      "140809:29639 rows 8 columns\n",
      "140809:29639 rows 8 columns\n"
     ]
    }
   ],
   "source": [
    "record_cnt = 0 \n",
    "col_names = [\"C/A\",\"UNIT\",\"SCP\",\"DATE\",\"TIME\",\"DESC\",\"ENTRIES\",\"EXITS\"]\n",
    "\n",
    "for link in data_list_prior:\n",
    "    for i in range(3,39,5):\n",
    "        data = pd.read_table(link, sep=',',header = None,usecols = [0,1,2,i,i+1,i+2,i+3,i+4],names = col_names)\n",
    "        print('%s:%s rows %s columns' % (link[-10:-4],data.shape[0], data.shape[1]))\n",
    "        record_cnt += data.shape[0]\n",
    "        data.to_sql(name='prior', con=conPre, flavor='sqlite', if_exists='append')"
   ]
  },
  {
   "cell_type": "code",
   "execution_count": null,
   "metadata": {
    "collapsed": true
   },
   "outputs": [],
   "source": [
    "data.head()"
   ]
  },
  {
   "cell_type": "code",
   "execution_count": null,
   "metadata": {
    "collapsed": true
   },
   "outputs": [],
   "source": [
    "with conPre:\n",
    "    cur = conPre.cursor()\n",
    "    cur.execute(\"\"\"select count(*) from prior\"\"\")\n",
    "    cnt = cur.fetchall()\n",
    "    print(cnt)\n",
    "    print(record_cnt)"
   ]
  },
  {
   "cell_type": "markdown",
   "metadata": {},
   "source": [
    "#### Add TURNSTILE and modify data type"
   ]
  },
  {
   "cell_type": "code",
   "execution_count": null,
   "metadata": {
    "collapsed": true
   },
   "outputs": [],
   "source": [
    "with conPre:\n",
    "    cur = conPre.cursor()\n",
    "    cur.execute(\"\"\"UPDATE prior set ENTRIES = CAST(ENTRIES as real)\"\"\")## string to float\n",
    "    cur.execute(\"\"\"UPDATE prior set EXITS = CAST(EXITS as real)\"\"\")"
   ]
  },
  {
   "cell_type": "code",
   "execution_count": 13,
   "metadata": {
    "collapsed": true
   },
   "outputs": [],
   "source": [
    "with conPre:\n",
    "    cur = conPre.cursor()\n",
    "    cur.execute(\"\"\"create TABLE pre AS select *, [C/A] || '-' || UNIT || '-' || SCP AS TURNSTILE from prior\"\"\")"
   ]
  },
  {
   "cell_type": "code",
   "execution_count": 14,
   "metadata": {},
   "outputs": [
    {
     "name": "stdout",
     "output_type": "stream",
     "text": [
      "[(0, 'A002', 'R051', '02-00-00', '10-04-14', '00:00:00', 'REGULAR', 4810694, 1632419, 'A002-R051-02-00-00'), (1, 'A002', 'R051', '02-00-00', '10-05-14', '08:00:00', 'REGULAR', 4811532, 1632653, 'A002-R051-02-00-00'), (2, 'A002', 'R051', '02-00-00', '10-06-14', '16:00:00', 'REGULAR', 4812783, 1633296, 'A002-R051-02-00-00'), (3, 'A002', 'R051', '02-00-00', '10-08-14', '00:00:00', 'REGULAR', 4815662, 1633996, 'A002-R051-02-00-00'), (4, 'A002', 'R051', '02-00-00', '10-09-14', '08:00:00', 'REGULAR', 4817510, 1634680, 'A002-R051-02-00-00')]\n"
     ]
    }
   ],
   "source": [
    "with conPre:\n",
    "    cur = conPre.cursor()\n",
    "    cur.execute(\"\"\"SELECT * FROM pre LIMIT 5\"\"\")\n",
    "    cnt = cur.fetchall()\n",
    "    print(cnt)"
   ]
  },
  {
   "cell_type": "markdown",
   "metadata": {},
   "source": [
    "**C.** Remote Unit/Control Area/Station Name Key"
   ]
  },
  {
   "cell_type": "code",
   "execution_count": 15,
   "metadata": {},
   "outputs": [
    {
     "name": "stdout",
     "output_type": "stream",
     "text": [
      "[(768,)]\n"
     ]
    },
    {
     "name": "stderr",
     "output_type": "stream",
     "text": [
      "/anaconda/lib/python3.6/site-packages/pandas/io/sql.py:527: FutureWarning: the 'flavor' parameter is deprecated and will be removed in a future version, as 'sqlite' is the only supported option when SQLAlchemy is not installed.\n",
      "  _validate_flavor_parameter(flavor)\n"
     ]
    }
   ],
   "source": [
    "col_names = [\"UNIT\",'C/A','STATION','LINENAME','DIVISION']\n",
    "remote = pd.read_excel(\"http://web.mta.info/developers/resources/nyct/turnstile/Remote-Booth-Station.xls\", names=col_names).drop_duplicates(['UNIT','C/A'])\n",
    "remote.to_sql(name='remote', con=conPre, flavor='sqlite', if_exists='replace')\n",
    "\n",
    "with conPre:\n",
    "    cur = conPre.cursor()\n",
    "    cur.execute(\"\"\"select count(*) from remote\"\"\")\n",
    "    cnt = cur.fetchall()\n",
    "    print(cnt)"
   ]
  },
  {
   "cell_type": "code",
   "execution_count": 16,
   "metadata": {},
   "outputs": [
    {
     "data": {
      "text/html": [
       "<div>\n",
       "<style>\n",
       "    .dataframe thead tr:only-child th {\n",
       "        text-align: right;\n",
       "    }\n",
       "\n",
       "    .dataframe thead th {\n",
       "        text-align: left;\n",
       "    }\n",
       "\n",
       "    .dataframe tbody tr th {\n",
       "        vertical-align: top;\n",
       "    }\n",
       "</style>\n",
       "<table border=\"1\" class=\"dataframe\">\n",
       "  <thead>\n",
       "    <tr style=\"text-align: right;\">\n",
       "      <th></th>\n",
       "      <th>UNIT</th>\n",
       "      <th>C/A</th>\n",
       "      <th>STATION</th>\n",
       "      <th>LINENAME</th>\n",
       "      <th>DIVISION</th>\n",
       "    </tr>\n",
       "  </thead>\n",
       "  <tbody>\n",
       "    <tr>\n",
       "      <th>0</th>\n",
       "      <td>R001</td>\n",
       "      <td>A060</td>\n",
       "      <td>WHITEHALL ST</td>\n",
       "      <td>R1</td>\n",
       "      <td>BMT</td>\n",
       "    </tr>\n",
       "    <tr>\n",
       "      <th>1</th>\n",
       "      <td>R001</td>\n",
       "      <td>A058</td>\n",
       "      <td>WHITEHALL ST</td>\n",
       "      <td>R1</td>\n",
       "      <td>BMT</td>\n",
       "    </tr>\n",
       "    <tr>\n",
       "      <th>2</th>\n",
       "      <td>R001</td>\n",
       "      <td>R101S</td>\n",
       "      <td>SOUTH FERRY</td>\n",
       "      <td>R1</td>\n",
       "      <td>IRT</td>\n",
       "    </tr>\n",
       "    <tr>\n",
       "      <th>3</th>\n",
       "      <td>R002</td>\n",
       "      <td>A077</td>\n",
       "      <td>FULTON ST</td>\n",
       "      <td>ACJZ2345</td>\n",
       "      <td>BMT</td>\n",
       "    </tr>\n",
       "    <tr>\n",
       "      <th>4</th>\n",
       "      <td>R002</td>\n",
       "      <td>A081</td>\n",
       "      <td>FULTON ST</td>\n",
       "      <td>ACJZ2345</td>\n",
       "      <td>BMT</td>\n",
       "    </tr>\n",
       "  </tbody>\n",
       "</table>\n",
       "</div>"
      ],
      "text/plain": [
       "   UNIT    C/A       STATION  LINENAME DIVISION\n",
       "0  R001   A060  WHITEHALL ST        R1      BMT\n",
       "1  R001   A058  WHITEHALL ST        R1      BMT\n",
       "2  R001  R101S   SOUTH FERRY        R1      IRT\n",
       "3  R002   A077     FULTON ST  ACJZ2345      BMT\n",
       "4  R002   A081     FULTON ST  ACJZ2345      BMT"
      ]
     },
     "execution_count": 16,
     "metadata": {},
     "output_type": "execute_result"
    }
   ],
   "source": [
    "remote.head()"
   ]
  },
  {
   "cell_type": "code",
   "execution_count": 17,
   "metadata": {},
   "outputs": [
    {
     "name": "stdout",
     "output_type": "stream",
     "text": [
      "[(0, 'R001', 'A060', 'WHITEHALL ST', 'R1', 'BMT'), (1, 'R001', 'A058', 'WHITEHALL ST', 'R1', 'BMT'), (2, 'R001', 'R101S', 'SOUTH FERRY', 'R1', 'IRT'), (3, 'R002', 'A077', 'FULTON ST', 'ACJZ2345', 'BMT'), (4, 'R002', 'A081', 'FULTON ST', 'ACJZ2345', 'BMT')]\n"
     ]
    }
   ],
   "source": [
    "with conPre:\n",
    "    cur = conPre.cursor()\n",
    "    cur.execute(\"\"\"SELECT * FROM remote LIMIT 5\"\"\")\n",
    "    cnt = cur.fetchall()\n",
    "    print(cnt)"
   ]
  },
  {
   "cell_type": "markdown",
   "metadata": {},
   "source": [
    "Now we have two databases: post.db and pre.db\n",
    "\n",
    "1. **post.db** has **one** table called **post**, which stores complete information about data after 10/18/14;\n",
    "\n",
    "2. **pre.db** has **two** tables called **remote and pre**;"
   ]
  },
  {
   "cell_type": "markdown",
   "metadata": {},
   "source": [
    "** schemas of tables:**"
   ]
  },
  {
   "cell_type": "code",
   "execution_count": 18,
   "metadata": {},
   "outputs": [
    {
     "name": "stdout",
     "output_type": "stream",
     "text": [
      "[('CREATE TABLE pre(\\n  \"index\" INT,\\n  \"C/A\" TEXT,\\n  UNIT TEXT,\\n  SCP TEXT,\\n  DATE TEXT,\\n  TIME TEXT,\\n  \"DESC\" TEXT,\\n  ENTRIES INT,\\n  EXITS INT,\\n  TURNSTILE\\n)',)]\n"
     ]
    }
   ],
   "source": [
    "with conPre:\n",
    "    cur = conPre.cursor()\n",
    "    #cur.execute(\"\"\"select sql from sqlite_master where type = 'table' and name = 'prior'\"\"\")\n",
    "    cur.execute(\"\"\"select sql from sqlite_master where type = 'table' and name = 'pre'\"\"\")\n",
    "    desc = cur.fetchall()\n",
    "    print(desc)"
   ]
  },
  {
   "cell_type": "code",
   "execution_count": 19,
   "metadata": {
    "collapsed": true
   },
   "outputs": [],
   "source": [
    "with conPost:\n",
    "    cur = conPost.cursor()\n",
    "    cur.execute(\"\"\"create TABLE pos AS select *, [C/A] || '-' || UNIT || '-' || SCP AS TURNSTILE from post\"\"\")"
   ]
  },
  {
   "cell_type": "code",
   "execution_count": 20,
   "metadata": {},
   "outputs": [
    {
     "name": "stdout",
     "output_type": "stream",
     "text": [
      "[('CREATE TABLE pos(\\n  \"index\" INT,\\n  \"C/A\" TEXT,\\n  UNIT TEXT,\\n  SCP TEXT,\\n  STATION TEXT,\\n  LINENAME TEXT,\\n  DIVISION TEXT,\\n  DATE TEXT,\\n  TIME TEXT,\\n  \"DESC\" TEXT,\\n  ENTRIES INT,\\n  \"EXITS                                                               \" INT,\\n  TURNSTILE\\n)',)]\n"
     ]
    }
   ],
   "source": [
    "with conPost:\n",
    "    cur = conPost.cursor()\n",
    "    cur.execute(\"\"\"select sql from sqlite_master where type = 'table' and name = 'pos'\"\"\")\n",
    "    desc = cur.fetchall()\n",
    "    print(desc)"
   ]
  },
  {
   "cell_type": "code",
   "execution_count": 21,
   "metadata": {},
   "outputs": [
    {
     "name": "stdout",
     "output_type": "stream",
     "text": [
      "[(0, 'A002', 'R051', '02-00-00', 'LEXINGTON AVE', 'NQR456', 'BMT', '10/25/2014', '00:00:00', 'REGULAR', 4841726, 1642694, 'A002-R051-02-00-00'), (1, 'A002', 'R051', '02-00-00', 'LEXINGTON AVE', 'NQR456', 'BMT', '10/25/2014', '04:00:00', 'REGULAR', 4841761, 1642697, 'A002-R051-02-00-00'), (2, 'A002', 'R051', '02-00-00', 'LEXINGTON AVE', 'NQR456', 'BMT', '10/25/2014', '08:00:00', 'REGULAR', 4841779, 1642714, 'A002-R051-02-00-00'), (3, 'A002', 'R051', '02-00-00', 'LEXINGTON AVE', 'NQR456', 'BMT', '10/25/2014', '12:00:00', 'REGULAR', 4841925, 1642826, 'A002-R051-02-00-00'), (4, 'A002', 'R051', '02-00-00', 'LEXINGTON AVE', 'NQR456', 'BMT', '10/25/2014', '16:00:00', 'REGULAR', 4842220, 1642910, 'A002-R051-02-00-00')]\n"
     ]
    }
   ],
   "source": [
    "with conPost:\n",
    "    cur = conPost.cursor()\n",
    "    cur.execute(\"\"\"SELECT * FROM pos LIMIT 5\"\"\")\n",
    "    desc = cur.fetchall()\n",
    "    print(desc)"
   ]
  },
  {
   "cell_type": "markdown",
   "metadata": {},
   "source": [
    "** Sanity Check:** Missing Data"
   ]
  },
  {
   "cell_type": "code",
   "execution_count": 22,
   "metadata": {},
   "outputs": [
    {
     "name": "stdout",
     "output_type": "stream",
     "text": [
      "[(956176, 956176, 956176)]\n"
     ]
    }
   ],
   "source": [
    "with conPre:\n",
    "    cur = conPre.cursor()\n",
    "    cur.execute(\"\"\"select count([C/A]), COUNT(SCP),count(unit) from pre\"\"\")\n",
    "    cnt = cur.fetchall()\n",
    "    print(cnt)"
   ]
  },
  {
   "cell_type": "code",
   "execution_count": 23,
   "metadata": {},
   "outputs": [
    {
     "name": "stdout",
     "output_type": "stream",
     "text": [
      "[(0, 'A002', 'R051', '02-00-00', '10-04-14', '00:00:00', 'REGULAR', 4810694, 1632419, 'A002-R051-02-00-00'), (1, 'A002', 'R051', '02-00-00', '10-05-14', '08:00:00', 'REGULAR', 4811532, 1632653, 'A002-R051-02-00-00'), (2, 'A002', 'R051', '02-00-00', '10-06-14', '16:00:00', 'REGULAR', 4812783, 1633296, 'A002-R051-02-00-00'), (3, 'A002', 'R051', '02-00-00', '10-08-14', '00:00:00', 'REGULAR', 4815662, 1633996, 'A002-R051-02-00-00'), (4, 'A002', 'R051', '02-00-00', '10-09-14', '08:00:00', 'REGULAR', 4817510, 1634680, 'A002-R051-02-00-00')]\n"
     ]
    }
   ],
   "source": [
    "with conPre:\n",
    "    cur = conPre.cursor()\n",
    "    cur.execute(\"\"\"SELECT * FROM pre LIMIT 5\"\"\")\n",
    "    cnt = cur.fetchall()\n",
    "    print(cnt)"
   ]
  },
  {
   "cell_type": "markdown",
   "metadata": {},
   "source": [
    "# Data Analysis\n",
    "\n",
    "#### 1. Which station has the most number of units?\n",
    "    \n",
    "   **Answer：** 86 ST  "
   ]
  },
  {
   "cell_type": "code",
   "execution_count": 24,
   "metadata": {},
   "outputs": [
    {
     "name": "stdout",
     "output_type": "stream",
     "text": [
      "[('86 ST', 5)]\n",
      "Spend 0 seconds\n"
     ]
    }
   ],
   "source": [
    "start = datetime.datetime.now()\n",
    "with conPre:\n",
    "    cur = conPre.cursor()\n",
    "    cur.execute(\"\"\"select STATION, COUNT(DISTINCT unit) from remote group by STATION order by count(distinct unit) desc limit 1\"\"\")\n",
    "    top_station = cur.fetchall()\n",
    "print(top_station)\n",
    "end = datetime.datetime.now()\n",
    "print('Spend %s seconds'%(end-start).seconds)"
   ]
  },
  {
   "cell_type": "markdown",
   "metadata": {},
   "source": [
    "#### 2. What is the total number of entries & exits across the subway system for August 1, 2013?\n",
    "\n",
    "   **Answer：** \n",
    "   \n",
    "   Due to the complexity of data recording, there are different ways to define daily total number of entries & exits. \n",
    "   \n",
    "   Here I tried two methods:\n",
    "   \n",
    "   **A**: for each turnstile, daily registration is calculated by max(today) - max(previous); \n",
    "   \n",
    "   **B**: for each turnstile, daily registration is calculated by Last record(today) - first record(today). \n",
    "   \n",
    "   Those two methods gave me two results: **9958949** for A and **9636595** for B.\n",
    "   \n",
    "   Comparing the two, I chose the first method for its calculation simplicity."
   ]
  },
  {
   "cell_type": "markdown",
   "metadata": {},
   "source": [
    "###### Solution A:"
   ]
  },
  {
   "cell_type": "code",
   "execution_count": 32,
   "metadata": {},
   "outputs": [
    {
     "name": "stdout",
     "output_type": "stream",
     "text": [
      "Spend 3 seconds\n",
      "[]\n"
     ]
    }
   ],
   "source": [
    "start = datetime.datetime.now()\n",
    "with conPre:\n",
    "    cur = conPre.cursor()\n",
    "    #cur.execute(\"\"\"select TURNSTILE,DATE,max(ENTRIES) AS entries, max(EXITS) as exits from pre\n",
    "    cur.execute(\"\"\"select * from pre\n",
    "    group by TURNSTILE, date Having DATE IN ('08-01-13','07-31-13') AND DESC = 'REGULAR'\"\"\")\n",
    "    EE080113 = cur.fetchall()\n",
    "end = datetime.datetime.now()\n",
    "print('Spend %s seconds'%(end-start).seconds)\n",
    "print(EE080113)"
   ]
  },
  {
   "cell_type": "code",
   "execution_count": 30,
   "metadata": {},
   "outputs": [
    {
     "data": {
      "text/plain": [
       "0"
      ]
     },
     "execution_count": 30,
     "metadata": {},
     "output_type": "execute_result"
    }
   ],
   "source": [
    "EE080113_df = pd.DataFrame(EE080113,columns = ['turnstile','date','entries','exits'])\n",
    "sum(list(filter(lambda x:x>0,EE080113_df.groupby(['turnstile','date']).sum().sum(axis = 1).groupby(level = 0).diff().dropna().values)))"
   ]
  },
  {
   "cell_type": "markdown",
   "metadata": {},
   "source": [
    "##### Solution B:"
   ]
  },
  {
   "cell_type": "code",
   "execution_count": 31,
   "metadata": {},
   "outputs": [
    {
     "name": "stderr",
     "output_type": "stream",
     "text": [
      "ERROR:root:An unexpected error occurred while tokenizing input\n",
      "The following traceback may be corrupted or invalid\n",
      "The error message is: ('EOF in multi-line string', (1, 96))\n",
      "\n"
     ]
    },
    {
     "ename": "OperationalError",
     "evalue": "no such column: TURNSTILE",
     "output_type": "error",
     "traceback": [
      "\u001b[0;31m---------------------------------------------------------------------------\u001b[0m",
      "\u001b[0;31mOperationalError\u001b[0m                          Traceback (most recent call last)",
      "\u001b[0;32m<ipython-input-31-5928664f823b>\u001b[0m in \u001b[0;36m<module>\u001b[0;34m()\u001b[0m\n\u001b[1;32m      5\u001b[0m     \u001b[0mUNION\u001b[0m \u001b[0mALL\u001b[0m\u001b[0;34m\u001b[0m\u001b[0m\n\u001b[1;32m      6\u001b[0m     \u001b[0mselect\u001b[0m \u001b[0mTURNSTILE\u001b[0m\u001b[0;34m,\u001b[0m\u001b[0mDESC\u001b[0m\u001b[0;34m,\u001b[0m\u001b[0;34m'24:00:00'\u001b[0m \u001b[0mAS\u001b[0m \u001b[0mTIME\u001b[0m\u001b[0;34m,\u001b[0m\u001b[0;34m(\u001b[0m\u001b[0mENTRIES\u001b[0m\u001b[0;34m+\u001b[0m\u001b[0mEXITS\u001b[0m\u001b[0;34m)\u001b[0m \u001b[0mAS\u001b[0m \u001b[0mTOTAL\u001b[0m\u001b[0;31m \u001b[0m\u001b[0;31m\\\u001b[0m\u001b[0;34m\u001b[0m\u001b[0m\n\u001b[0;32m----> 7\u001b[0;31m     from prior where DATE = '08-02-13' AND TIME = '00:00:00'AND DESC IN ('REGULAR','RECOVR AUD')\"\"\")\n\u001b[0m\u001b[1;32m      8\u001b[0m     \u001b[0mEE080113\u001b[0m \u001b[0;34m=\u001b[0m \u001b[0mcur\u001b[0m\u001b[0;34m.\u001b[0m\u001b[0mfetchall\u001b[0m\u001b[0;34m(\u001b[0m\u001b[0;34m)\u001b[0m\u001b[0;34m\u001b[0m\u001b[0m\n",
      "\u001b[0;31mOperationalError\u001b[0m: no such column: TURNSTILE"
     ]
    }
   ],
   "source": [
    "start = datetime.datetime.now()\n",
    "with conPre:\n",
    "    cur = conPre.cursor()\n",
    "    cur.execute(\"\"\"select TURNSTILE,DESC,TIME,(ENTRIES+EXITS) AS TOTAL \\\n",
    "    from prior where DATE = '08-01-13' AND DESC IN ('REGULAR','RECOVR AUD')\n",
    "    UNION ALL\n",
    "    select TURNSTILE,DESC,'24:00:00' AS TIME,(ENTRIES+EXITS) AS TOTAL \\\n",
    "    from prior where DATE = '08-02-13' AND TIME = '00:00:00'AND DESC IN ('REGULAR','RECOVR AUD')\"\"\")\n",
    "    EE080113 = cur.fetchall()"
   ]
  },
  {
   "cell_type": "code",
   "execution_count": 475,
   "metadata": {},
   "outputs": [
    {
     "name": "stdout",
     "output_type": "stream",
     "text": [
      "31947\n",
      "31947\n",
      "30666\n",
      "total          0.0\n",
      "total   -1236270.0\n",
      "dtype: float64\n",
      "Spend 74 seconds\n"
     ]
    }
   ],
   "source": [
    "start = datetime.datetime.now()\n",
    "with conPre:\n",
    "    cur = conPre.cursor()\n",
    "    cur.execute(\"\"\"select TURNSTILE,DESC,TIME,(ENTRIES+EXITS) AS TOTAL \\\n",
    "    from pre where DATE = '08-01-13' AND DESC IN ('REGULAR','RECOVR AUD')\n",
    "    UNION ALL\n",
    "    select TURNSTILE,DESC,'24:00:00' AS TIME,(ENTRIES+EXITS) AS TOTAL \\\n",
    "    from pre where DATE = '08-02-13' AND TIME = '00:00:00'AND DESC IN ('REGULAR','RECOVR AUD')\"\"\")\n",
    "    EE080113 = cur.fetchall()\n",
    "end = datetime.datetime.now()\n",
    "EE080113_df = pd.DataFrame(EE080113,columns = ['turnstile','DESC','time','total'])\n",
    "print(len(EE080113_df))\n",
    "EE080113_df = EE080113_df.dropna().sort_values(by = 'DESC').reindex()\n",
    "print(len(EE080113_df))\n",
    "## recover audit\n",
    "EE080113_df = EE080113_df[~EE080113_df.duplicated(['turnstile','time'],keep = 'first').values].groupby(['turnstile','time']).sum().sort_index()\n",
    "print(len(EE080113_df))\n",
    "first = EE080113_df.groupby(level=0).nth(0)\n",
    "last = EE080113_df.groupby(level=0).nth(-1)\n",
    "diff = pd.concat([first, last], axis=1, join='inner').diff(axis = 1)\n",
    "print(diff.sum())\n",
    "print('Spend %s seconds'%(end-start).seconds)"
   ]
  },
  {
   "cell_type": "markdown",
   "metadata": {},
   "source": [
    "Why the value is negative? "
   ]
  },
  {
   "cell_type": "code",
   "execution_count": 482,
   "metadata": {},
   "outputs": [
    {
     "data": {
      "text/html": [
       "<div>\n",
       "<table border=\"1\" class=\"dataframe\">\n",
       "  <thead>\n",
       "    <tr style=\"text-align: right;\">\n",
       "      <th></th>\n",
       "      <th>total</th>\n",
       "      <th>total</th>\n",
       "    </tr>\n",
       "    <tr>\n",
       "      <th>turnstile</th>\n",
       "      <th></th>\n",
       "      <th></th>\n",
       "    </tr>\n",
       "  </thead>\n",
       "  <tbody>\n",
       "    <tr>\n",
       "      <th>N504-R021-02-00-04</th>\n",
       "      <td>NaN</td>\n",
       "      <td>-10869325.0</td>\n",
       "    </tr>\n",
       "  </tbody>\n",
       "</table>\n",
       "</div>"
      ],
      "text/plain": [
       "                    total       total\n",
       "turnstile                            \n",
       "N504-R021-02-00-04    NaN -10869325.0"
      ]
     },
     "execution_count": 482,
     "metadata": {},
     "output_type": "execute_result"
    }
   ],
   "source": [
    "diff[diff.iloc[:,-1]<0]"
   ]
  },
  {
   "cell_type": "markdown",
   "metadata": {},
   "source": [
    "It shows Turnstile N504-R021-02-00-04 has strange records. Then let's see full records of Turnstile N504-R021-02-00-04 "
   ]
  },
  {
   "cell_type": "code",
   "execution_count": 416,
   "metadata": {},
   "outputs": [
    {
     "data": {
      "text/html": [
       "<div>\n",
       "<table border=\"1\" class=\"dataframe\">\n",
       "  <thead>\n",
       "    <tr style=\"text-align: right;\">\n",
       "      <th></th>\n",
       "      <th></th>\n",
       "      <th>total</th>\n",
       "    </tr>\n",
       "    <tr>\n",
       "      <th>turnstile</th>\n",
       "      <th>time</th>\n",
       "      <th></th>\n",
       "    </tr>\n",
       "  </thead>\n",
       "  <tbody>\n",
       "    <tr>\n",
       "      <th rowspan=\"7\" valign=\"top\">N504R02102-00-04</th>\n",
       "      <th>00:00:00</th>\n",
       "      <td>10874252.0</td>\n",
       "    </tr>\n",
       "    <tr>\n",
       "      <th>04:00:00</th>\n",
       "      <td>10874298.0</td>\n",
       "    </tr>\n",
       "    <tr>\n",
       "      <th>08:00:00</th>\n",
       "      <td>10874687.0</td>\n",
       "    </tr>\n",
       "    <tr>\n",
       "      <th>12:00:00</th>\n",
       "      <td>1822.0</td>\n",
       "    </tr>\n",
       "    <tr>\n",
       "      <th>16:00:00</th>\n",
       "      <td>2774.0</td>\n",
       "    </tr>\n",
       "    <tr>\n",
       "      <th>20:00:00</th>\n",
       "      <td>4517.0</td>\n",
       "    </tr>\n",
       "    <tr>\n",
       "      <th>24:00:00</th>\n",
       "      <td>4927.0</td>\n",
       "    </tr>\n",
       "  </tbody>\n",
       "</table>\n",
       "</div>"
      ],
      "text/plain": [
       "                                total\n",
       "turnstile        time                \n",
       "N504R02102-00-04 00:00:00  10874252.0\n",
       "                 04:00:00  10874298.0\n",
       "                 08:00:00  10874687.0\n",
       "                 12:00:00      1822.0\n",
       "                 16:00:00      2774.0\n",
       "                 20:00:00      4517.0\n",
       "                 24:00:00      4927.0"
      ]
     },
     "execution_count": 416,
     "metadata": {},
     "output_type": "execute_result"
    }
   ],
   "source": [
    "EE080113_df.iloc[EE080113_df.index.get_level_values('turnstile') == 'N504R02102-00-04']"
   ]
  },
  {
   "cell_type": "code",
   "execution_count": 483,
   "metadata": {},
   "outputs": [
    {
     "name": "stdout",
     "output_type": "stream",
     "text": [
      "Total number of entries & exits for Turnstile N504-R021-02-00-04 should be 3540\n"
     ]
    }
   ],
   "source": [
    "print('Total number of entries & exits for Turnstile N504-R021-02-00-04 should be %s' % ((10874687 - 10874252)+(4927-1822)))"
   ]
  },
  {
   "cell_type": "code",
   "execution_count": 491,
   "metadata": {},
   "outputs": [
    {
     "name": "stdout",
     "output_type": "stream",
     "text": [
      "The final answer is 9636595.0\n"
     ]
    }
   ],
   "source": [
    "print('The final answer is %s' %(sum(diff[diff.iloc[:,-1]>0].iloc[:,-1].values)+3540))"
   ]
  },
  {
   "cell_type": "code",
   "execution_count": null,
   "metadata": {
    "collapsed": true
   },
   "outputs": [],
   "source": []
  },
  {
   "cell_type": "markdown",
   "metadata": {},
   "source": [
    "#### 3. Let’s define the busy-ness as sum of entry & exit count. What station was the busiest on August 1, 2013? What turnstile was the busiest on that date?\n",
    "\n",
    "   **Answer：** \n",
    "   1. '42 ST-GRD CNTRL'\n",
    "   2. C/A: N063A;  UNIT: R011;   SCP: 00-00-00"
   ]
  },
  {
   "cell_type": "code",
   "execution_count": 32,
   "metadata": {},
   "outputs": [
    {
     "data": {
      "text/plain": [
       "0    11786.0\n",
       "Name: (N063A-R011-00-00-00, 08-01-13), dtype: float64"
      ]
     },
     "execution_count": 32,
     "metadata": {},
     "output_type": "execute_result"
    }
   ],
   "source": [
    "turnstile_r_df = pd.DataFrame(EE080113_df.groupby(['turnstile','date']).sum().sum(axis = 1).groupby(level = 0).diff().dropna())#.values\n",
    "turnstile_r_df.sort_values(by = 0,ascending = False).iloc[0,:]"
   ]
  },
  {
   "cell_type": "code",
   "execution_count": 45,
   "metadata": {},
   "outputs": [
    {
     "data": {
      "text/plain": [
       "0    131388.0\n",
       "Name: R238-R046, dtype: float64"
      ]
     },
     "execution_count": 45,
     "metadata": {},
     "output_type": "execute_result"
    }
   ],
   "source": [
    "turnstile_r_df = turnstile_r_df.reset_index()\n",
    "turnstile_r_df['station'] = list(map(lambda x:x.split('-')[0]+'-'+x.split('-')[1],turnstile_r_df['turnstile']))\n",
    "turnstile_r_df[['station',0]].groupby('station').sum().sort_values(by = 0,ascending = False).iloc[0,:]"
   ]
  },
  {
   "cell_type": "code",
   "execution_count": 46,
   "metadata": {},
   "outputs": [
    {
     "name": "stdout",
     "output_type": "stream",
     "text": [
      "[('42 ST-GRD CNTRL',)]\n"
     ]
    }
   ],
   "source": [
    "with conPre:\n",
    "    cur = conPre.cursor()\n",
    "    cur.execute(\"\"\"select STATION from remote where UNIT = 'R046' AND [C/A] = 'R238'\"\"\")\n",
    "    busy_station = cur.fetchall()\n",
    "print(busy_station)"
   ]
  },
  {
   "cell_type": "code",
   "execution_count": null,
   "metadata": {
    "collapsed": true
   },
   "outputs": [],
   "source": []
  },
  {
   "cell_type": "markdown",
   "metadata": {},
   "source": [
    "#### 4. What stations have seen the most usage growth/decline in 2013\n",
    "\n",
    "   **Answer:** \n",
    "   1. decease:'215 ST'\n",
    "   2. incease:'FULTON ST'"
   ]
  },
  {
   "cell_type": "code",
   "execution_count": 8,
   "metadata": {},
   "outputs": [
    {
     "name": "stdout",
     "output_type": "stream",
     "text": [
      "Spend 124 seconds\n"
     ]
    }
   ],
   "source": [
    "start = datetime.datetime.now()\n",
    "with conPre:\n",
    "    cur = conPre.cursor()\n",
    "    cur.execute(\"\"\"select TURNSTILE,date,max(ENTRIES) AS entries, max(exits) as exits from pre\n",
    "    group by turnstile, date Having DATE LIKE '%13' AND DESC = 'REGULAR'\"\"\")\n",
    "    EE13 = cur.fetchall()\n",
    "end = datetime.datetime.now()\n",
    "print('Spend %s seconds'%(end-start).seconds)\n",
    "EE13_df = pd.DataFrame(EE13,columns = ['turnstile','date','entries','exits'])\n",
    "turnstile_r_df_13 = pd.DataFrame(EE13_df.groupby(['turnstile','date']).sum().sum(axis = 1).groupby(level = 0).diff().dropna())#.values"
   ]
  },
  {
   "cell_type": "code",
   "execution_count": 17,
   "metadata": {},
   "outputs": [
    {
     "name": "stdout",
     "output_type": "stream",
     "text": [
      "Spend 127 seconds\n"
     ]
    }
   ],
   "source": [
    "start = datetime.datetime.now()\n",
    "with conPre:\n",
    "    cur = conPre.cursor()\n",
    "    cur.execute(\"\"\"select TURNSTILE,date,max(ENTRIES) AS entries, max(exits) as exits from pre\n",
    "    group by turnstile, date Having DATE LIKE '%12' AND DESC = 'REGULAR'\"\"\")\n",
    "    EE12 = cur.fetchall()\n",
    "end = datetime.datetime.now()\n",
    "print('Spend %s seconds'%(end-start).seconds)\n",
    "EE12_df = pd.DataFrame(EE12,columns = ['turnstile','date','entries','exits'])\n",
    "turnstile_r_df_12 = pd.DataFrame(EE12_df.groupby(['turnstile','date']).sum().sum(axis = 1).groupby(level = 0).diff().dropna())#.values"
   ]
  },
  {
   "cell_type": "code",
   "execution_count": 18,
   "metadata": {
    "collapsed": true
   },
   "outputs": [],
   "source": [
    "turnstile_r_df13 = turnstile_r_df_13.reset_index()\n",
    "turnstile_r_df13['station'] = list(map(lambda x:x.split('-')[0]+'-'+x.split('-')[1],turnstile_r_df13['turnstile']))\n",
    "turnstile_r_df13 = turnstile_r_df13[turnstile_r_df13[0]>0]\n",
    "\n",
    "turnstile_r_df12 = turnstile_r_df_12.reset_index()\n",
    "turnstile_r_df12['station'] = list(map(lambda x:x.split('-')[0]+'-'+x.split('-')[1],turnstile_r_df12['turnstile']))\n",
    "turnstile_r_df12 = turnstile_r_df12[turnstile_r_df12[0]>0]"
   ]
  },
  {
   "cell_type": "code",
   "execution_count": 19,
   "metadata": {
    "collapsed": true,
    "scrolled": true
   },
   "outputs": [],
   "source": [
    "ee13 = turnstile_r_df13[['station',0]].groupby('station').sum()\n",
    "ee13.columns = ['re13']\n",
    "ee12 = turnstile_r_df12[['station',0]].groupby('station').sum()\n",
    "ee12.columns = ['re12']\n",
    "change_df = ee12.join(ee13,lsuffix = '%')"
   ]
  },
  {
   "cell_type": "code",
   "execution_count": 21,
   "metadata": {},
   "outputs": [
    {
     "data": {
      "text/plain": [
       "0   -0.999157\n",
       "Name: R190-R038, dtype: float64"
      ]
     },
     "execution_count": 21,
     "metadata": {},
     "output_type": "execute_result"
    }
   ],
   "source": [
    "pd.DataFrame((change_df['re13']-change_df['re12'])/change_df['re12']).sort_values(by  = 0).iloc[0,:]"
   ]
  },
  {
   "cell_type": "code",
   "execution_count": 25,
   "metadata": {},
   "outputs": [
    {
     "data": {
      "text/plain": [
       "0    3309.666667\n",
       "Name: R114-R028, dtype: float64"
      ]
     },
     "execution_count": 25,
     "metadata": {},
     "output_type": "execute_result"
    }
   ],
   "source": [
    "pd.DataFrame((change_df['re13']-change_df['re12'])/change_df['re12']).sort_values(by  = 0).dropna().iloc[-1,:]"
   ]
  },
  {
   "cell_type": "code",
   "execution_count": 26,
   "metadata": {},
   "outputs": [
    {
     "name": "stdout",
     "output_type": "stream",
     "text": [
      "decease:[('215 ST',)]\n",
      "---------\n",
      "incease:[('FULTON ST',)]\n"
     ]
    }
   ],
   "source": [
    "with conPre:\n",
    "    cur = conPre.cursor()\n",
    "    cur.execute(\"\"\"select STATION from remote where UNIT = 'R038' AND [C/A] = 'R190'\"\"\")\n",
    "    d_station = cur.fetchall()\n",
    "    print('decease:%s'%d_station)\n",
    "    print(\"---------\")\n",
    "    cur.execute(\"\"\"select STATION from remote where UNIT = 'R028' AND [C/A] = 'R114'\"\"\")\n",
    "    i_station = cur.fetchall()\n",
    "    print('incease:%s'%i_station)"
   ]
  },
  {
   "cell_type": "code",
   "execution_count": null,
   "metadata": {
    "collapsed": true
   },
   "outputs": [],
   "source": []
  },
  {
   "cell_type": "markdown",
   "metadata": {},
   "source": [
    "#### 5. What dates are the least busy? Could you identify days on which stations were not operating at full capacity or closed entirely?\n",
    "\n",
    "   **Answer:** \n",
    "   1. Least busy: 2012-10-30\n",
    "   2. For example: 2010-04-18  A002-R051"
   ]
  },
  {
   "cell_type": "code",
   "execution_count": 27,
   "metadata": {},
   "outputs": [
    {
     "name": "stdout",
     "output_type": "stream",
     "text": [
      "Spend 143 seconds\n"
     ]
    }
   ],
   "source": [
    "start = datetime.datetime.now()\n",
    "with conPre:\n",
    "    cur = conPre.cursor()\n",
    "    cur.execute(\"\"\"select TURNSTILE,date,max(ENTRIES) AS entries, max(exits) as exits from pre\n",
    "    group by turnstile, date Having DESC = 'REGULAR'\"\"\")\n",
    "    EE = cur.fetchall()\n",
    "end = datetime.datetime.now()\n",
    "print('Spend %s seconds'%(end-start).seconds)"
   ]
  },
  {
   "cell_type": "code",
   "execution_count": 28,
   "metadata": {
    "collapsed": true
   },
   "outputs": [],
   "source": [
    "EE_df = pd.DataFrame(EE,columns = ['turnstile','date','entries','exits'])\n",
    "EE_df['date'] = pd.to_datetime(EE_df['date'], format='%m-%d-%y')\n",
    "turnstile_r_df = pd.DataFrame(EE_df.groupby(['turnstile','date']).sum().sum(axis = 1).groupby(level = 0).diff().dropna())#.values\n",
    "\n",
    "turnstile_r_df = turnstile_r_df.reset_index()\n",
    "turnstile_r_df['station'] = list(map(lambda x:x.split('-')[0]+'-'+x.split('-')[1],turnstile_r_df['turnstile']))\n",
    "turnstile_r_df = turnstile_r_df[turnstile_r_df[0]>=0]"
   ]
  },
  {
   "cell_type": "code",
   "execution_count": 29,
   "metadata": {},
   "outputs": [
    {
     "data": {
      "text/html": [
       "<div>\n",
       "<table border=\"1\" class=\"dataframe\">\n",
       "  <thead>\n",
       "    <tr style=\"text-align: right;\">\n",
       "      <th></th>\n",
       "      <th>0</th>\n",
       "    </tr>\n",
       "    <tr>\n",
       "      <th>date</th>\n",
       "      <th></th>\n",
       "    </tr>\n",
       "  </thead>\n",
       "  <tbody>\n",
       "    <tr>\n",
       "      <th>2012-10-30</th>\n",
       "      <td>13310.0</td>\n",
       "    </tr>\n",
       "    <tr>\n",
       "      <th>2012-10-31</th>\n",
       "      <td>22186.0</td>\n",
       "    </tr>\n",
       "    <tr>\n",
       "      <th>2012-10-29</th>\n",
       "      <td>28259.0</td>\n",
       "    </tr>\n",
       "    <tr>\n",
       "      <th>2011-08-28</th>\n",
       "      <td>69844.0</td>\n",
       "    </tr>\n",
       "    <tr>\n",
       "      <th>2012-11-01</th>\n",
       "      <td>396289.0</td>\n",
       "    </tr>\n",
       "  </tbody>\n",
       "</table>\n",
       "</div>"
      ],
      "text/plain": [
       "                   0\n",
       "date                \n",
       "2012-10-30   13310.0\n",
       "2012-10-31   22186.0\n",
       "2012-10-29   28259.0\n",
       "2011-08-28   69844.0\n",
       "2012-11-01  396289.0"
      ]
     },
     "execution_count": 29,
     "metadata": {},
     "output_type": "execute_result"
    }
   ],
   "source": [
    "turnstile_r_df[['date',0]].groupby('date').sum().sort_values(by = 0).head()"
   ]
  },
  {
   "cell_type": "code",
   "execution_count": 30,
   "metadata": {},
   "outputs": [
    {
     "data": {
      "text/plain": [
       "date        station   \n",
       "2010-04-18  A002-R051     2\n",
       "            A007-R079     1\n",
       "            A043-R462     3\n",
       "            A046-R463     3\n",
       "            A047-R087     5\n",
       "            A050-R088     8\n",
       "            A055-R227     2\n",
       "            A058-R001     1\n",
       "            A060-R001     1\n",
       "            A077-R002     1\n",
       "            A082-R002     4\n",
       "            A083-R125     1\n",
       "            A084-R125     7\n",
       "            A085-R125     4\n",
       "            B009-R411     1\n",
       "            B013-R196     1\n",
       "            C004-R089     3\n",
       "            C008-R099     2\n",
       "            C009-R057     2\n",
       "            C022-R212     2\n",
       "            C026-R215     2\n",
       "            C028-R216     2\n",
       "            D004-R391     2\n",
       "            D006-R398     2\n",
       "            D011-R394     2\n",
       "            G001-R151     1\n",
       "            G009-R151     1\n",
       "            G015-R312     2\n",
       "            H001-R175     2\n",
       "            H041-R152     1\n",
       "                         ..\n",
       "2014-10-10  R317-R408     2\n",
       "            R318-R408     1\n",
       "            R323-R387     2\n",
       "            R325-R388     2\n",
       "            R327-R361     2\n",
       "            R331-R364     2\n",
       "            R334-R367     1\n",
       "            R412-R146     2\n",
       "            R413-R325     2\n",
       "            R414-R162     2\n",
       "            R415-R120     2\n",
       "            R416-R245     2\n",
       "            R417-R222     1\n",
       "            R421-R427     2\n",
       "            R423-R429     1\n",
       "            R508-R346     1\n",
       "            R517-R291     2\n",
       "            R520-R223     2\n",
       "            R523-R147     2\n",
       "            R532-R328     1\n",
       "            R532H-R328    8\n",
       "            R534-R055     1\n",
       "            R601A-R108    2\n",
       "            R612-R057     1\n",
       "            R626-R062     1\n",
       "            R639-R109     3\n",
       "            R645-R110     1\n",
       "            S101A-R070    2\n",
       "            S102-R165     2\n",
       "            TRAM2-R469    1\n",
       "Name: turnstile, dtype: int64"
      ]
     },
     "execution_count": 30,
     "metadata": {},
     "output_type": "execute_result"
    }
   ],
   "source": [
    "turnstile_r_df[turnstile_r_df[0] == 0].groupby(['date','station']).count()['turnstile']"
   ]
  },
  {
   "cell_type": "markdown",
   "metadata": {},
   "source": [
    "# Visualization"
   ]
  },
  {
   "cell_type": "markdown",
   "metadata": {},
   "source": [
    "#### 1. Plot the daily row counts for data files in Q3 2013."
   ]
  },
  {
   "cell_type": "code",
   "execution_count": 32,
   "metadata": {
    "collapsed": true
   },
   "outputs": [],
   "source": [
    "with conPre:\n",
    "    cur = conPre.cursor()\n",
    "    cur.execute(\"\"\"select DATE, count(*) from pre group by date Having DATE LIKE '%13'\"\"\")\n",
    "    temp = cur.fetchall()\n",
    "daily_rcnt = pd.DataFrame(temp,columns = ['DATE','CNT'])\n",
    "daily_rcnt['Month'] = list(map(lambda x:x.split('-')[0],daily_rcnt['DATE']))\n",
    "daily_rcnt['DATE'] = pd.to_datetime(daily_rcnt['DATE'], format='%m-%d-%y')\n",
    "daily_rcnt = daily_rcnt[((daily_rcnt['Month']=='07') & (daily_rcnt['Month']=='08') & (daily_rcnt['Month']=='09'))]"
   ]
  },
  {
   "cell_type": "code",
   "execution_count": 33,
   "metadata": {
    "collapsed": true
   },
   "outputs": [],
   "source": [
    "daily_rcnt = pd.DataFrame(temp,columns = ['DATE','CNT'])\n",
    "daily_rcnt['Month'] = list(map(lambda x:x.split('-')[0],daily_rcnt['DATE']))\n",
    "daily_rcnt['DATE'] = pd.to_datetime(daily_rcnt['DATE'], format='%m-%d-%y')"
   ]
  },
  {
   "cell_type": "code",
   "execution_count": 34,
   "metadata": {},
   "outputs": [
    {
     "data": {
      "text/plain": [
       "<matplotlib.text.Text at 0x67e045f240>"
      ]
     },
     "execution_count": 34,
     "metadata": {},
     "output_type": "execute_result"
    },
    {
     "data": {
      "image/png": "[encoded data removed]",
      "text/plain": [
       "<matplotlib.figure.Figure at 0x6701a13400>"
      ]
     },
     "metadata": {},
     "output_type": "display_data"
    }
   ],
   "source": [
    "plt.figure(figsize=(8,4))\n",
    "daily_rcnt[((daily_rcnt['Month']>='07') & (daily_rcnt['Month']<='09'))].set_index('DATE')['CNT'].plot()\n",
    "plt.title('daily row counts in Q3 2013')"
   ]
  },
  {
   "cell_type": "markdown",
   "metadata": {},
   "source": [
    "#### 2. Plot the daily total number of entries & exits across the system for Q3 2013."
   ]
  },
  {
   "cell_type": "code",
   "execution_count": 35,
   "metadata": {
    "collapsed": true
   },
   "outputs": [],
   "source": [
    "with conPre:\n",
    "    cur = conPre.cursor()\n",
    "    cur.execute(\"\"\"select TURNSTILE,date,max(ENTRIES) AS entries, max(exits) as exits from pre \n",
    "    group by turnstile, date Having date LIKE '%13' AND substr(date,2,1) IN ('7','8','9') AND desc = 'REGULAR' \"\"\")\n",
    "    turnstile_daily_Q3 = cur.fetchall()"
   ]
  },
  {
   "cell_type": "code",
   "execution_count": 36,
   "metadata": {
    "collapsed": true
   },
   "outputs": [],
   "source": [
    "turnstile_daily_Q3_df = pd.DataFrame(turnstile_daily_Q3,columns = ['turnstile','date','entries','exits'])\n",
    "turnstile_daily_Q3_df['date'] = pd.to_datetime(turnstile_daily_Q3_df['date'], format='%m-%d-%y')\n",
    "turnstile_r_dfQ3 = pd.DataFrame(turnstile_daily_Q3_df.groupby(['turnstile','date']).sum().sum(axis = 1).groupby(level = 0).diff().dropna())#.values\n",
    "\n",
    "turnstile_r_dfQ3 = turnstile_r_dfQ3.reset_index()\n",
    "turnstile_r_dfQ3['station'] = list(map(lambda x:x.split('-')[0]+'-'+x.split('-')[1],turnstile_r_dfQ3['turnstile']))\n",
    "turnstile_r_dfQ3  = turnstile_r_dfQ3[turnstile_r_dfQ3[0]>=0]"
   ]
  },
  {
   "cell_type": "code",
   "execution_count": 37,
   "metadata": {},
   "outputs": [
    {
     "data": {
      "text/html": [
       "<div>\n",
       "<table border=\"1\" class=\"dataframe\">\n",
       "  <thead>\n",
       "    <tr style=\"text-align: right;\">\n",
       "      <th></th>\n",
       "      <th>0</th>\n",
       "    </tr>\n",
       "    <tr>\n",
       "      <th>date</th>\n",
       "      <th></th>\n",
       "    </tr>\n",
       "  </thead>\n",
       "  <tbody>\n",
       "    <tr>\n",
       "      <th>2013-07-07</th>\n",
       "      <td>4975660.0</td>\n",
       "    </tr>\n",
       "    <tr>\n",
       "      <th>2013-09-01</th>\n",
       "      <td>5065400.0</td>\n",
       "    </tr>\n",
       "    <tr>\n",
       "      <th>2013-07-21</th>\n",
       "      <td>5142865.0</td>\n",
       "    </tr>\n",
       "    <tr>\n",
       "      <th>2013-08-18</th>\n",
       "      <td>5199397.0</td>\n",
       "    </tr>\n",
       "    <tr>\n",
       "      <th>2013-09-08</th>\n",
       "      <td>5255054.0</td>\n",
       "    </tr>\n",
       "  </tbody>\n",
       "</table>\n",
       "</div>"
      ],
      "text/plain": [
       "                    0\n",
       "date                 \n",
       "2013-07-07  4975660.0\n",
       "2013-09-01  5065400.0\n",
       "2013-07-21  5142865.0\n",
       "2013-08-18  5199397.0\n",
       "2013-09-08  5255054.0"
      ]
     },
     "execution_count": 37,
     "metadata": {},
     "output_type": "execute_result"
    }
   ],
   "source": [
    "turnstile_r_dfQ3[['date',0]].groupby('date').sum().sort_values(by = 0).head()"
   ]
  },
  {
   "cell_type": "code",
   "execution_count": 38,
   "metadata": {},
   "outputs": [
    {
     "data": {
      "text/plain": [
       "<matplotlib.legend.Legend at 0x67018e03c8>"
      ]
     },
     "execution_count": 38,
     "metadata": {},
     "output_type": "execute_result"
    },
    {
     "data": {
      "image/png": "[encoded data removed]",
      "text/plain": [
       "<matplotlib.figure.Figure at 0x6701a13e48>"
      ]
     },
     "metadata": {},
     "output_type": "display_data"
    }
   ],
   "source": [
    "turnstile_r_dfQ3[['date',0]].groupby('date').sum().sort_index().plot(figsize = (12,4))\n",
    "plt.title('daily total number of entries & exits across the system for Q3 2013')\n",
    "plt.legend([])"
   ]
  },
  {
   "cell_type": "markdown",
   "metadata": {},
   "source": [
    "*** There are some anomalies in the chart above. Need to check the data later***"
   ]
  },
  {
   "cell_type": "code",
   "execution_count": null,
   "metadata": {
    "collapsed": true
   },
   "outputs": [],
   "source": []
  },
  {
   "cell_type": "markdown",
   "metadata": {
    "collapsed": true
   },
   "source": [
    "#### 3.   Plot the mean and standard deviation of the daily total number of entries & exits for each month in Q3 2013 for station 34 ST-PENN STA"
   ]
  },
  {
   "cell_type": "code",
   "execution_count": 39,
   "metadata": {},
   "outputs": [
    {
     "name": "stdout",
     "output_type": "stream",
     "text": [
      "[('N067', 'R012'), ('N065', 'R012'), ('N068', 'R012'), ('N070', 'R012'), ('N072', 'R012'), ('N071', 'R013'), ('N069', 'R013'), ('N073', 'R013'), ('R141', 'R031'), ('R135', 'R031'), ('R137', 'R031'), ('R139', 'R031'), ('R138', 'R293'), ('R142', 'R293')]\n"
     ]
    }
   ],
   "source": [
    "with conPre:\n",
    "    cur = conPre.cursor()\n",
    "    cur.execute(\"\"\"select [C/A],UNIT from remote where station = '34 ST-PENN STA'\"\"\")\n",
    "    station = cur.fetchall()\n",
    "print(station)"
   ]
  },
  {
   "cell_type": "code",
   "execution_count": 40,
   "metadata": {
    "collapsed": true
   },
   "outputs": [],
   "source": [
    "list_S = list(map(lambda x: x[0]+'-'+x[1],station))"
   ]
  },
  {
   "cell_type": "code",
   "execution_count": 41,
   "metadata": {},
   "outputs": [
    {
     "name": "stderr",
     "output_type": "stream",
     "text": [
      "C:\\Users\\Miya\\Anaconda3\\lib\\site-packages\\ipykernel\\__main__.py:2: SettingWithCopyWarning: \n",
      "A value is trying to be set on a copy of a slice from a DataFrame.\n",
      "Try using .loc[row_indexer,col_indexer] = value instead\n",
      "\n",
      "See the caveats in the documentation: http://pandas.pydata.org/pandas-docs/stable/indexing.html#indexing-view-versus-copy\n",
      "  from ipykernel import kernelapp as app\n"
     ]
    }
   ],
   "source": [
    "Q3pEN_df = turnstile_r_dfQ3[turnstile_r_dfQ3['station'].isin(list_S)]\n",
    "Q3pEN_df[\"month\"] = list(map(lambda x:x.month,Q3pEN_df['date']))"
   ]
  },
  {
   "cell_type": "code",
   "execution_count": 42,
   "metadata": {},
   "outputs": [
    {
     "data": {
      "text/plain": [
       "<matplotlib.legend.Legend at 0x680f440f28>"
      ]
     },
     "execution_count": 42,
     "metadata": {},
     "output_type": "execute_result"
    },
    {
     "data": {
      "image/png": "[encoded data removed]",
      "text/plain": [
       "<matplotlib.figure.Figure at 0x674f972c50>"
      ]
     },
     "metadata": {},
     "output_type": "display_data"
    }
   ],
   "source": [
    "gp = Q3pEN_df[['month',0]].groupby('month')\n",
    "mean = gp.mean()\n",
    "std = gp.std()\n",
    "ax = mean.plot(yerr=std,kind='bar',figsize = (5,3))\n",
    "plt.legend([])"
   ]
  },
  {
   "cell_type": "markdown",
   "metadata": {},
   "source": [
    "#### 4.   Plot 25/50/75 percentile of the daily total number of entries & exits for each month in Q3 2013 for station 34 ST-PENN STA."
   ]
  },
  {
   "cell_type": "code",
   "execution_count": 43,
   "metadata": {},
   "outputs": [
    {
     "name": "stderr",
     "output_type": "stream",
     "text": [
      "C:\\Users\\Miya\\Anaconda3\\lib\\site-packages\\ipykernel\\__main__.py:1: SettingWithCopyWarning: \n",
      "A value is trying to be set on a copy of a slice from a DataFrame.\n",
      "Try using .loc[row_indexer,col_indexer] = value instead\n",
      "\n",
      "See the caveats in the documentation: http://pandas.pydata.org/pandas-docs/stable/indexing.html#indexing-view-versus-copy\n",
      "  if __name__ == '__main__':\n"
     ]
    },
    {
     "data": {
      "text/plain": [
       "<matplotlib.figure.Figure at 0x680f32e128>"
      ]
     },
     "execution_count": 43,
     "metadata": {},
     "output_type": "execute_result"
    },
    {
     "data": {
      "image/png": "[encoded data removed]",
      "text/plain": [
       "<matplotlib.figure.Figure at 0x680f1d6da0>"
      ]
     },
     "metadata": {},
     "output_type": "display_data"
    },
    {
     "data": {
      "text/plain": [
       "<matplotlib.figure.Figure at 0x680f32e128>"
      ]
     },
     "metadata": {},
     "output_type": "display_data"
    }
   ],
   "source": [
    "Q3pEN_df['month']=Q3pEN_df['month'].apply(str)\n",
    "df2 = Q3pEN_df[['month',0]].stack().reset_index(level=0, drop=True).reset_index()\n",
    "df2.columns = ['column name', 'value']\n",
    "df2.sort_values(['column name', 'value'], inplace=True)\n",
    "fig, ax = plt.subplots()\n",
    "plt.boxplot([Q3pEN_df[Q3pEN_df['month']=='7'][0].values,Q3pEN_df[Q3pEN_df['month']=='8'][0].values,Q3pEN_df[Q3pEN_df['month']=='9'][0].values])\n",
    "labels = ['Jul','Aug','Sep']\n",
    "ax.set_xticklabels(labels)\n",
    "plt.title('25/50/75 percentile of the daily total number of entries & exits for each month in Q3 2013 for station 34 ST-PENN STA.')\n",
    "plt.figure(figsize=(8,3))"
   ]
  },
  {
   "cell_type": "markdown",
   "metadata": {},
   "source": [
    "#### 5. Plot the daily number of closed stations and number of stations that were not operating at full capacity in Q3 2013"
   ]
  },
  {
   "cell_type": "code",
   "execution_count": 47,
   "metadata": {
    "collapsed": true
   },
   "outputs": [],
   "source": [
    "turnstile_r_dfQ3['close']= turnstile_r_dfQ3[0]==0"
   ]
  },
  {
   "cell_type": "code",
   "execution_count": 55,
   "metadata": {
    "collapsed": true
   },
   "outputs": [],
   "source": [
    "full = turnstile_r_dfQ3[['date','station','close']].groupby(['date','station']).sum()\n",
    "full.columns = ['sum']#.groupby('date').count"
   ]
  },
  {
   "cell_type": "code",
   "execution_count": 54,
   "metadata": {
    "collapsed": true
   },
   "outputs": [],
   "source": [
    "close = turnstile_r_dfQ3[['date','station','close']].groupby(['date','station']).count()#.groupby('date').count\n",
    "close.columns = ['cnt']"
   ]
  },
  {
   "cell_type": "code",
   "execution_count": 69,
   "metadata": {},
   "outputs": [
    {
     "data": {
      "text/plain": [
       "<matplotlib.legend.Legend at 0x68113d6b38>"
      ]
     },
     "execution_count": 69,
     "metadata": {},
     "output_type": "execute_result"
    },
    {
     "data": {
      "image/png": "[encoded data removed]",
      "text/plain": [
       "<matplotlib.figure.Figure at 0x68134d2978>"
      ]
     },
     "metadata": {},
     "output_type": "display_data"
    }
   ],
   "source": [
    "operation = full.join(close)\n",
    "operation[operation['sum']==operation['cnt']].reset_index()[['date','station']].groupby(['date']).count().plot(figsize = (8,4))\n",
    "plt.title('daily number of closed stations')\n",
    "plt.legend([])"
   ]
  },
  {
   "cell_type": "code",
   "execution_count": 71,
   "metadata": {},
   "outputs": [
    {
     "data": {
      "text/plain": [
       "<matplotlib.legend.Legend at 0x6811f2f710>"
      ]
     },
     "execution_count": 71,
     "metadata": {},
     "output_type": "execute_result"
    },
    {
     "data": {
      "image/png": "[encoded data removed]",
      "text/plain": [
       "<matplotlib.figure.Figure at 0x6813a5d8d0>"
      ]
     },
     "metadata": {},
     "output_type": "display_data"
    }
   ],
   "source": [
    "temp = operation[operation['cnt']!=operation['sum']]\n",
    "temp[temp['sum']!=0].reset_index()[['date','station']].groupby(['date']).count().plot(figsize = (8,4))\n",
    "plt.title('number of stations that were not operating at full capacity')\n",
    "plt.legend([])"
   ]
  },
  {
   "cell_type": "code",
   "execution_count": null,
   "metadata": {
    "collapsed": true
   },
   "outputs": [],
   "source": []
  },
  {
   "cell_type": "code",
   "execution_count": null,
   "metadata": {
    "collapsed": true
   },
   "outputs": [],
   "source": []
  }
 ],
 "metadata": {
  "anaconda-cloud": {},
  "kernelspec": {
   "display_name": "Python 3",
   "language": "python",
   "name": "python3"
  },
  "language_info": {
   "codemirror_mode": {
    "name": "ipython",
    "version": 3
   },
   "file_extension": ".py",
   "mimetype": "text/x-python",
   "name": "python",
   "nbconvert_exporter": "python",
   "pygments_lexer": "ipython3",
   "version": "3.6.1"
  }
 },
 "nbformat": 4,
 "nbformat_minor": 1
}
